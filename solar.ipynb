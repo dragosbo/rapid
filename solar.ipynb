{
 "cells": [
  {
   "cell_type": "code",
   "execution_count": 1,
   "metadata": {
    "collapsed": false
   },
   "outputs": [],
   "source": [
    "import pandas as pd\n",
    "import numpy as np \n",
    "#print(np.__version__,pd.__version__)  # check versions"
   ]
  },
  {
   "cell_type": "code",
   "execution_count": 2,
   "metadata": {
    "collapsed": true
   },
   "outputs": [],
   "source": [
    "df = pd.read_excel(\"tool_simple.xlsm\",sheetname=\"main\",skiprows=2)\n",
    "df.rename(columns={'Unnamed: 0': 'VALUE_TIME','production[KWh]':'realized'}, inplace=True)\n",
    "df.set_index('VALUE_TIME',inplace = True)\n",
    "d = df[['realized']]\n",
    "#d1 =d['2016-1':'2016-8']"
   ]
  },
  {
   "cell_type": "code",
   "execution_count": 3,
   "metadata": {
    "collapsed": false
   },
   "outputs": [],
   "source": [
    "def prev(df):\n",
    "    return df[:24].append(df.shift(1,'D'))"
   ]
  },
  {
   "cell_type": "code",
   "execution_count": 4,
   "metadata": {
    "collapsed": true
   },
   "outputs": [],
   "source": [
    "def prev2(df):\n",
    "    x = prev(df)\n",
    "    return (x + prev(x) ) / 2"
   ]
  },
  {
   "cell_type": "code",
   "execution_count": 5,
   "metadata": {
    "collapsed": true
   },
   "outputs": [],
   "source": [
    "def prev3(df):\n",
    "    x = prev(df)\n",
    "    y = prev(x)\n",
    "    return (x + y + prev(y) ) / 3"
   ]
  },
  {
   "cell_type": "code",
   "execution_count": 6,
   "metadata": {
    "collapsed": true
   },
   "outputs": [],
   "source": [
    "def month_hour_avg(df):\n",
    "    \"\"\" df transformed to monthly hourly averages\"\"\"\n",
    "    b = df.copy()\n",
    "    b['month'] = b.index.month\n",
    "    b['hour']  = b.index.hour\n",
    "    out = b.merge( b.groupby(['month','hour']).mean(),\n",
    "                   how='left', left_on=['month', 'hour'], \n",
    "                   right_index=True, suffixes=('ignore',''))[df.columns]\n",
    "    return out"
   ]
  },
  {
   "cell_type": "code",
   "execution_count": 7,
   "metadata": {
    "collapsed": false
   },
   "outputs": [],
   "source": [
    "def detect_suspicious_hours(d,threshold = 0.05, avg_threshold = 200):\n",
    "    \"\"\"detects hours with suspicious low production\n",
    "           hourly value is smaller than threshold * monthly average for that hour\n",
    "           monthly average for an hour is higher than an absolute threshold\n",
    "    \"\"\"\n",
    "    out = pd.concat([d,month_hour_avg(d)],axis=1,keys=['original', 'avg_value'])\n",
    "    out.columns = out.columns.droplevel(1)\n",
    "    return out.query('original < avg_value * @threshold and avg_value > @avg_threshold' )\n",
    "#detect_suspicious_hours(d)[:3]"
   ]
  },
  {
   "cell_type": "code",
   "execution_count": 8,
   "metadata": {
    "collapsed": false
   },
   "outputs": [],
   "source": [
    "def clear_suspicious_hours(df):\n",
    "    out = df.copy()\n",
    "    out.loc[detect_suspicious_hours(df).index, df.columns] = np.nan\n",
    "    return out\n",
    "#clear_suspicious_hours(d)[:3]"
   ]
  },
  {
   "cell_type": "code",
   "execution_count": 9,
   "metadata": {
    "collapsed": true
   },
   "outputs": [],
   "source": [
    "def replace_suspicious_values(d, compare=False):\n",
    "    v = clear_suspicious_hours(d)\n",
    "    x = v.copy()\n",
    "    x[x.isnull()] = month_hour_avg(v)\n",
    "    out = pd.concat([d,v,x],axis=1,keys=['original_production','valid_production', 'filled_production',])\n",
    "    out.columns = out.columns.droplevel(1)\n",
    "    return out if compare else out[['filled_production']]\n",
    "#replace_suspicious_values(d, compare=True).to_clipboard()       "
   ]
  },
  {
   "cell_type": "code",
   "execution_count": 10,
   "metadata": {
    "collapsed": false
   },
   "outputs": [],
   "source": [
    "# compare raw production and statistical forecasts\n",
    "def compare_forecasts(d):\n",
    "    c = replace_suspicious_values(d)\n",
    "    out = pd.concat([d,c,prev(d),prev2(d),prev3(d),\n",
    "                     month_hour_avg(d),month_hour_avg(c)], \n",
    "                    keys=['original_production','corrected_production','prevday','prev2days','prev3days',\n",
    "                          'monthavg_nocorrection','monthavg_withcorrection'], axis=1)\n",
    "    out.columns = out.columns.droplevel(1)\n",
    "    return out\n",
    "compare_forecasts(d).to_clipboard()"
   ]
  },
  {
   "cell_type": "code",
   "execution_count": 12,
   "metadata": {
    "collapsed": false
   },
   "outputs": [],
   "source": [
    "#z = pd.DataFrame(pd.date_range(start='2016-01-01',end='2016-09-01',freq='H')[:-1], columns=['VALUE_TIME'])\n",
    "\n",
    "#d.groupby(d.index.month).sum() / d.sum()\n",
    "#d.groupby([d.index.month, d.index.hour]).mean().unstack()"
   ]
  }
 ],
 "metadata": {
  "anaconda-cloud": {},
  "kernelspec": {
   "display_name": "Python [default]",
   "language": "python",
   "name": "python3"
  },
  "language_info": {
   "codemirror_mode": {
    "name": "ipython",
    "version": 3
   },
   "file_extension": ".py",
   "mimetype": "text/x-python",
   "name": "python",
   "nbconvert_exporter": "python",
   "pygments_lexer": "ipython3",
   "version": "3.5.2"
  }
 },
 "nbformat": 4,
 "nbformat_minor": 1
}
